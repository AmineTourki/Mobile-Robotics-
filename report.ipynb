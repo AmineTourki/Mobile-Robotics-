{
 "cells": [
  {
   "cell_type": "markdown",
   "id": "776dc310",
   "metadata": {},
   "source": [
    "# Basics of mobile robotics - Thymio Project \n",
    "## Students: "
   ]
  },
  {
   "cell_type": "markdown",
   "id": "894bd842",
   "metadata": {},
   "source": [
    "## Imports\n"
   ]
  },
  {
   "cell_type": "code",
   "execution_count": null,
   "id": "24b24ba8",
   "metadata": {},
   "outputs": [],
   "source": [
    "import numpy as np\n",
    "import math as m\n",
    "import cv2\n",
    "import os\n",
    "import sys\n",
    "import matplotlib.pyplot as plt\n",
    "import serial\n",
    "import time\n",
    "from A_star_algorithm import run_A_Star\n",
    "from vision_agent import Vision\n",
    "import local_navigation\n",
    "import navigation\n",
    "import utils\n",
    "\n",
    "%matplotlib inline\n",
    "\n"
   ]
  },
  {
   "cell_type": "markdown",
   "id": "6eda5bc5",
   "metadata": {},
   "source": [
    "## Connexion to Thymio "
   ]
  },
  {
   "cell_type": "code",
   "execution_count": null,
   "id": "cc973857",
   "metadata": {},
   "outputs": [],
   "source": [
    "sys.path.insert(0, os.path.join(os.getcwd(), 'src'))\n",
    "from Thymio import Thymio\n",
    "#With cable\n",
    "th = Thymio.serial(port=\"COM5\", refreshing_rate=0.1)\n",
    "#Wireless\n",
    "#th = Thymio.serial(port=\"\\\\.\\COM5\", refreshing_rate=0.1)"
   ]
  },
  {
   "cell_type": "markdown",
   "id": "362c5fbc",
   "metadata": {},
   "source": [
    "## Implementation\n"
   ]
  },
  {
   "cell_type": "code",
   "execution_count": null,
   "id": "195b7a13",
   "metadata": {},
   "outputs": [],
   "source": [
    "# Get map information and robot initial pose\n",
    "Vision.update()\n",
    "goal=Vision.objective_green\n",
    "path, visitedNodes = run_A_Star(Vision.parcours, Vision.center_robot, goal) \n",
    "x = Vision.center_robot[0]\n",
    "y = Vision.center_robot[1]\n",
    "theta = utils.deg_to_rad(Vision.angle)\n",
    "\n",
    "#Initialise the robot\n",
    "myRobot=MyThymio(th,x,y,theta)\n",
    "\n",
    "# Go to first goal\n",
    "follow_path(myRobot,Vision,path,goal)\n",
    "\n",
    "goal=Vision.objective_red\n",
    "path, visitedNodes = run_A_Star(Vision.parcours, myRobot.get_pos(), goal)\n",
    "\n",
    "# Go to final goal\n",
    "follow_path(myRobot,Vision,path,goal)\n"
   ]
  },
  {
   "cell_type": "code",
   "execution_count": null,
   "id": "c497712e",
   "metadata": {},
   "outputs": [],
   "source": [
    "\n"
   ]
  }
 ],
 "metadata": {
  "kernelspec": {
   "display_name": "Python 3 (ipykernel)",
   "language": "python",
   "name": "python3"
  },
  "language_info": {
   "codemirror_mode": {
    "name": "ipython",
    "version": 3
   },
   "file_extension": ".py",
   "mimetype": "text/x-python",
   "name": "python",
   "nbconvert_exporter": "python",
   "pygments_lexer": "ipython3",
   "version": "3.8.11"
  },
  "toc": {
   "base_numbering": 1,
   "nav_menu": {},
   "number_sections": true,
   "sideBar": true,
   "skip_h1_title": false,
   "title_cell": "Table of Contents",
   "title_sidebar": "Contents",
   "toc_cell": false,
   "toc_position": {},
   "toc_section_display": true,
   "toc_window_display": false
  }
 },
 "nbformat": 4,
 "nbformat_minor": 5
}
